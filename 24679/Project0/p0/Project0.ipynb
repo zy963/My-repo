{
 "cells": [
  {
   "cell_type": "code",
   "execution_count": 1,
   "id": "2b21c602",
   "metadata": {},
   "outputs": [
    {
     "name": "stderr",
     "output_type": "stream",
     "text": [
      "[nltk_data] Downloading package stopwords to\n",
      "[nltk_data]     C:\\Users\\Zheyi\\AppData\\Roaming\\nltk_data...\n",
      "[nltk_data]   Package stopwords is already up-to-date!\n"
     ]
    }
   ],
   "source": [
    "import nltk\n",
    "nltk.download('stopwords')\n",
    "import pandas as pd"
   ]
  },
  {
   "cell_type": "code",
   "execution_count": 2,
   "id": "7b35f4aa",
   "metadata": {},
   "outputs": [],
   "source": [
    "def get_good_bad_reviews(file_name):\n",
    "    reviews = pd.read_csv(file_name)\n",
    "    reviews = reviews.replace('5.0 out of 5 stars', 5)\n",
    "    reviews = reviews.replace('4.0 out of 5 stars', 4)\n",
    "    reviews = reviews.replace('3.0 out of 5 stars', 3)\n",
    "    reviews = reviews.replace('2.0 out of 5 stars', 2)\n",
    "    reviews = reviews.replace('1.0 out of 5 stars', 1)\n",
    "    good = reviews[reviews['Stars'] == 5]\n",
    "    bad = reviews[reviews['Stars'] < 3]\n",
    "    good.Comments.to_csv('good.txt',index=False, header = None)\n",
    "    bad.Comments.to_csv('bad.txt',index=False, header = None)"
   ]
  },
  {
   "cell_type": "code",
   "execution_count": 3,
   "id": "6ccb9b16",
   "metadata": {},
   "outputs": [],
   "source": [
    "def readtxt(file_name):\n",
    "    reviews = open(file_name, 'r')\n",
    "    words = []#use this list to save the words\n",
    "    for word in reviews:\n",
    "        word = word.strip()\n",
    "        word = word.split()\n",
    "        words = words + word\n",
    "    reviews.close()\n",
    "    return words"
   ]
  },
  {
   "cell_type": "code",
   "execution_count": 4,
   "id": "cb6b54fe",
   "metadata": {},
   "outputs": [],
   "source": [
    "def count(words):\n",
    "    words_dict = {}\n",
    "    for word in words:\n",
    "        x = word.lower()\n",
    "        #move these words that we don't need\n",
    "        if Judge(x):\n",
    "            continue\n",
    "        #count\n",
    "        if not x in words_dict:\n",
    "            words_dict[x] = 1\n",
    "        words_dict[x] += 1\n",
    "    #Sort dictionaries by value from large to small\n",
    "    wordsInorder = sorted(words_dict.items(), key=lambda x:x[1], reverse = True)\n",
    "    return wordsInorder"
   ]
  },
  {
   "cell_type": "code",
   "execution_count": 5,
   "id": "69b486c9",
   "metadata": {},
   "outputs": [],
   "source": [
    "def Judge(word):\n",
    "    char_list = [' ','\\t','\\n',',','.',':','?','!','@','&','*','(',')']#juege whether the word is a character\n",
    "    n_list = nltk.corpus.stopwords.words(\"english\")\n",
    "#     judge whether a word is \"valid\"\n",
    "    if word in char_list:\n",
    "        return True\n",
    "    elif word in n_list:\n",
    "        return True\n",
    "    else:\n",
    "        return False"
   ]
  },
  {
   "cell_type": "code",
   "execution_count": 6,
   "id": "c9d13b30",
   "metadata": {},
   "outputs": [],
   "source": [
    "file_name = 'amazon.csv'\n",
    "get_good_bad_reviews(file_name)\n",
    "g_words = readtxt('good.txt')\n",
    "b_words = readtxt('bad.txt')\n",
    "\n",
    "g_words_In_order = count(g_words)\n",
    "b_words_In_order = count(b_words)\n",
    "\n",
    "g_fw = open('good Words In Order_1.txt','w')\n",
    "for item in g_words_In_order:\n",
    "    g_fw.write(item[0] + ' ' + str(item[1]) + '\\n')\n",
    "g_fw.close()\n",
    "\n",
    "b_fw = open('bad Words In Order_1.txt','w')\n",
    "for item in b_words_In_order:\n",
    "    b_fw.write(item[0] + ' ' + str(item[1]) + '\\n')\n",
    "b_fw.close()"
   ]
  }
 ],
 "metadata": {
  "kernelspec": {
   "display_name": "Python 3 (ipykernel)",
   "language": "python",
   "name": "python3"
  },
  "language_info": {
   "codemirror_mode": {
    "name": "ipython",
    "version": 3
   },
   "file_extension": ".py",
   "mimetype": "text/x-python",
   "name": "python",
   "nbconvert_exporter": "python",
   "pygments_lexer": "ipython3",
   "version": "3.9.7"
  }
 },
 "nbformat": 4,
 "nbformat_minor": 5
}
