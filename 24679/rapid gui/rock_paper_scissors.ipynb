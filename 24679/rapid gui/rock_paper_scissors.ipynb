{
 "cells": [
  {
   "cell_type": "code",
   "execution_count": 43,
   "id": "aa997331",
   "metadata": {},
   "outputs": [],
   "source": [
    "import random\n",
    "# define the number guessing function\n",
    "def guess_num(num):\n",
    "    gen = random.randint(0, 10)\n",
    "    num = int(num)\n",
    "    if num == gen:\n",
    "        return \"Correct Number, You win! What's the odds!\"\n",
    "    else:\n",
    "        return \"Wrong Number, You lose\" + \"\\n\" + f\"Answer is {gen}\" + \"\\n\" + f\"You are missing by {abs(num - gen)}\""
   ]
  },
  {
   "cell_type": "code",
   "execution_count": 44,
   "id": "5cc734d0",
   "metadata": {},
   "outputs": [
    {
     "name": "stderr",
     "output_type": "stream",
     "text": [
      "c:\\Users\\Zheyi\\anaconda3\\lib\\site-packages\\gradio\\deprecation.py:43: UserWarning: You have unused kwarg parameters in Textbox, please remove them: {'default': 10}\n",
      "  warnings.warn(\n"
     ]
    },
    {
     "name": "stdout",
     "output_type": "stream",
     "text": [
      "Running on local URL:  http://127.0.0.1:7893\n",
      "\n",
      "To create a public link, set `share=True` in `launch()`.\n"
     ]
    },
    {
     "data": {
      "text/html": [
       "<div><iframe src=\"http://127.0.0.1:7893/\" width=\"900\" height=\"500\" allow=\"autoplay; camera; microphone;\" frameborder=\"0\" allowfullscreen></iframe></div>"
      ],
      "text/plain": [
       "<IPython.core.display.HTML object>"
      ]
     },
     "metadata": {},
     "output_type": "display_data"
    },
    {
     "data": {
      "text/plain": [
       "(<gradio.routes.App at 0x255201b4310>, 'http://127.0.0.1:7893/', None)"
      ]
     },
     "execution_count": 44,
     "metadata": {},
     "output_type": "execute_result"
    }
   ],
   "source": [
    "from email.policy import default\n",
    "import gradio as gr\n",
    "# create GUI\n",
    "with gr.Blocks() as demo:\n",
    "    gr.Markdown(\"# Welcome to Guess a Number!\")\n",
    "    gr.Markdown('Number range: 0-10 (Integer)')\n",
    "\n",
    "    with gr.Row():\n",
    "        num = gr.Textbox(label=\"Enter number\", lines = 3, placeholder='Enter your number', default = 10)\n",
    "        output = gr.Textbox(label=\"Output Box\", lines = 3)\n",
    "    with gr.Row():\n",
    "        btn = gr.Button(\"Guess\")\n",
    "        btn_e = gr.Button(\"Example: Enter 10 by clicking\") # default set as 10. By clicking the example button, GUI will show an example case\n",
    "\n",
    "    btn.click(\n",
    "        fn=guess_num, \n",
    "        inputs=num,\n",
    "        outputs=output\n",
    "        )\n",
    "    btn_e.click(\n",
    "        fn=guess_num, \n",
    "        inputs=num,\n",
    "        outputs=output\n",
    "        ) # if nothing entered and the example button is clicked, the example case will show.\n",
    "\n",
    "demo.launch()"
   ]
  }
 ],
 "metadata": {
  "kernelspec": {
   "display_name": "Python 3.9.7 ('base')",
   "language": "python",
   "name": "python3"
  },
  "language_info": {
   "codemirror_mode": {
    "name": "ipython",
    "version": 3
   },
   "file_extension": ".py",
   "mimetype": "text/x-python",
   "name": "python",
   "nbconvert_exporter": "python",
   "pygments_lexer": "ipython3",
   "version": "3.9.7"
  },
  "vscode": {
   "interpreter": {
    "hash": "149d394cce3158285b63f7c373d811733d1b2e921b62ca020b6e345f4dcddc01"
   }
  }
 },
 "nbformat": 4,
 "nbformat_minor": 5
}
