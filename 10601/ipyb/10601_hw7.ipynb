{
 "cells": [
  {
   "cell_type": "code",
   "execution_count": 1,
   "id": "24a378b4",
   "metadata": {},
   "outputs": [],
   "source": [
    "import numpy as np"
   ]
  },
  {
   "cell_type": "code",
   "execution_count": 2,
   "id": "5fb4ab1d",
   "metadata": {},
   "outputs": [],
   "source": [
    "sentences = [['you', 'eat', 'fish'], ['you', 'fish', 'eat'], ['eat', 'fish']]\n",
    "tags = [['D', 'C', 'D'], ['D', 'D', 'C'], ['C', 'D']]\n",
    "word_dict = {'you': 0, 'eat': 1, 'fish': 2}\n",
    "tag_dict = {'C': 0, 'D': 1}"
   ]
  },
  {
   "cell_type": "code",
   "execution_count": 3,
   "id": "ff5b574f",
   "metadata": {},
   "outputs": [],
   "source": [
    "tag_num = len(tag_dict)\n",
    "word_num = len(word_dict)\n",
    "\n",
    "init = np.zeros(tag_num)\n",
    "transition = np.zeros((tag_num, tag_num))\n",
    "emission = np.zeros((tag_num, word_num))"
   ]
  },
  {
   "cell_type": "code",
   "execution_count": 4,
   "id": "9ad4e485",
   "metadata": {},
   "outputs": [],
   "source": [
    "tag_init = tag_dict.copy()\n",
    "\n",
    "for tag in tag_init.keys():\n",
    "    tag_init[tag] = 0\n",
    "    for i in range(len(tags)):\n",
    "        if tags[i][0] == tag: \n",
    "            tag_init[tag] += 1\n",
    "    tag_init[tag] += 1\n",
    "    \n",
    "sum_init = sum(tag_init.values())\n",
    "i = 0\n",
    "for tag in tag_init.keys():\n",
    "    init[i] = tag_init[tag] / sum_init\n",
    "    i += 1"
   ]
  },
  {
   "cell_type": "code",
   "execution_count": 5,
   "id": "88dde99c",
   "metadata": {},
   "outputs": [
    {
     "data": {
      "text/plain": [
       "array([0.4, 0.6])"
      ]
     },
     "execution_count": 5,
     "metadata": {},
     "output_type": "execute_result"
    }
   ],
   "source": [
    "init"
   ]
  },
  {
   "cell_type": "code",
   "execution_count": 6,
   "id": "1be9ec53",
   "metadata": {},
   "outputs": [],
   "source": [
    "for i in range(len(tags)):\n",
    "    for j in range(1, len(tags[i])):\n",
    "        l2_idx = tag_dict[tags[i][j]]\n",
    "        l1_idx = tag_dict[tags[i][j - 1]]\n",
    "        transition[l1_idx][l2_idx] += 1\n",
    "\n",
    "transition += 1\n",
    "for i in range(len(transition)):\n",
    "    transition[i] = transition[i] / np.sum(transition[i])"
   ]
  },
  {
   "cell_type": "code",
   "execution_count": 7,
   "id": "42762779",
   "metadata": {},
   "outputs": [
    {
     "data": {
      "text/plain": [
       "array([[0.25, 0.75],\n",
       "       [0.6 , 0.4 ]])"
      ]
     },
     "execution_count": 7,
     "metadata": {},
     "output_type": "execute_result"
    }
   ],
   "source": [
    "transition"
   ]
  },
  {
   "cell_type": "code",
   "execution_count": 9,
   "id": "55c46829",
   "metadata": {},
   "outputs": [],
   "source": [
    "for i in range(len(tags)):\n",
    "    for j in range(len(tags[i])):\n",
    "        x_idx = word_dict[sentences[i][j]]\n",
    "        y_idx = tag_dict[tags[i][j]]\n",
    "        emission[y_idx][x_idx] += 1\n",
    "        \n",
    "emission += 1\n",
    "for i in range(len(emission)):\n",
    "    emission[i] = emission[i] / np.sum(emission[i])"
   ]
  },
  {
   "cell_type": "code",
   "execution_count": 10,
   "id": "80dd7f5b",
   "metadata": {
    "scrolled": true
   },
   "outputs": [
    {
     "data": {
      "text/plain": [
       "array([[0.16666667, 0.66666667, 0.16666667],\n",
       "       [0.375     , 0.125     , 0.5       ]])"
      ]
     },
     "execution_count": 10,
     "metadata": {},
     "output_type": "execute_result"
    }
   ],
   "source": [
    "emission"
   ]
  },
  {
   "cell_type": "markdown",
   "id": "7f3c8c9c",
   "metadata": {},
   "source": [
    "forward & backward"
   ]
  },
  {
   "cell_type": "code",
   "execution_count": 1,
   "id": "51f69714",
   "metadata": {},
   "outputs": [],
   "source": [
    "import numpy as np"
   ]
  },
  {
   "cell_type": "code",
   "execution_count": 2,
   "id": "dd465e3b",
   "metadata": {},
   "outputs": [],
   "source": [
    "emission = np.array([[0.16666667, 0.66666667, 0.16666667], [0.375     , 0.125     , 0.5       ]])\n",
    "transition = np.array([[0.25, 0.75], [0.6 , 0.4 ]])\n",
    "init = np.array([0.4, 0.6])\n",
    "\n",
    "sentences = [['fish', 'eat', 'you']]\n",
    "tags = [['C', 'C', 'C']]\n",
    "\n",
    "word_dict = {'you': 0, 'eat': 1, 'fish': 2}\n",
    "tag_dict = {'C': 0, 'D': 1}\n",
    "\n",
    "tag_num = len(tag_dict)\n",
    "word_num = len(word_dict)"
   ]
  },
  {
   "cell_type": "code",
   "execution_count": 5,
   "id": "c260e779",
   "metadata": {},
   "outputs": [],
   "source": [
    "def logsumexp(array):\n",
    "    return np.max(array) + np.log(np.sum(np.exp(array - np.max(array))))"
   ]
  },
  {
   "cell_type": "code",
   "execution_count": 4,
   "id": "b28b1771",
   "metadata": {},
   "outputs": [],
   "source": [
    "# forward\n",
    "# a1,a2...]T\n",
    "for sentence in sentences:\n",
    "    alpha = np.zeros((len(sentence), tag_num))\n",
    "    for i in range(1, len(sentence)+1):\n",
    "        if i == 1:\n",
    "            alpha[0] = np.log(init) + np.log(emission[:, word_dict[sentence[0]]])\n",
    "        else:\n",
    "            for j in range(1, tag_num+1):\n",
    "                new = np.zeros(tag_num)\n",
    "                for k in range(1, tag_num+1):\n",
    "                    new[k-1] = alpha[i-2, k-1] + np.log(transition[k-1, j-1])\n",
    "                alpha[i-1, j-1] = np.log(emission[j-1, word_dict[sentence[i-1]]]) + logsumexp(new)"
   ]
  },
  {
   "cell_type": "code",
   "execution_count": 5,
   "id": "acdd0b11",
   "metadata": {},
   "outputs": [
    {
     "data": {
      "text/plain": [
       "-3.0438629232330747"
      ]
     },
     "execution_count": 5,
     "metadata": {},
     "output_type": "execute_result"
    }
   ],
   "source": [
    "np.log(np.sum(np.exp(alpha[-1])))"
   ]
  },
  {
   "cell_type": "code",
   "execution_count": 7,
   "id": "50b46614",
   "metadata": {},
   "outputs": [
    {
     "data": {
      "text/plain": [
       "array([[-2.56061846, -1.95427839],\n",
       "       [-1.13036098, -1.38629435],\n",
       "       [ 0.        ,  0.        ]])"
      ]
     },
     "execution_count": 7,
     "metadata": {},
     "output_type": "execute_result"
    }
   ],
   "source": [
    "beta"
   ]
  },
  {
   "cell_type": "code",
   "execution_count": 6,
   "id": "39bc6017",
   "metadata": {},
   "outputs": [],
   "source": [
    "# beta = [b1, b2, ...].T\n",
    "# backward\n",
    "for sentence in sentences:\n",
    "    beta = np.zeros((len(sentence), tag_num))\n",
    "    for i in range(len(sentence)):\n",
    "        if i != 0:\n",
    "            for j in range(tag_num):\n",
    "                new = np.zeros(tag_num)\n",
    "                for k in range(tag_num):\n",
    "                    o = np.log(transition[j, k])\n",
    "                    p = emission[k, word_dict[sentence[len(sentence) - i]]]\n",
    "                    new[k] = beta[len(sentence) - i, k] + o + np.log(p)\n",
    "                beta[len(sentence) - i - 1, j] = logsumexp(new)"
   ]
  },
  {
   "cell_type": "code",
   "execution_count": 7,
   "id": "1c64e0a7",
   "metadata": {},
   "outputs": [
    {
     "data": {
      "text/plain": [
       "array([[-2.56061846, -1.95427839],\n",
       "       [-1.13036098, -1.38629435],\n",
       "       [ 0.        ,  0.        ]])"
      ]
     },
     "execution_count": 7,
     "metadata": {},
     "output_type": "execute_result"
    }
   ],
   "source": [
    "beta"
   ]
  },
  {
   "cell_type": "code",
   "execution_count": 1,
   "id": "7b4efc9f",
   "metadata": {},
   "outputs": [],
   "source": [
    "import numpy as np\n",
    "\n",
    "path_index2tag = r'C:\\Users\\Zheyi\\Documents\\CMU\\10601\\hw7\\handout\\index2tag.txt'\n",
    "tag = np.genfromtxt(path_index2tag, delimiter='\\n', dtype='str')"
   ]
  },
  {
   "cell_type": "code",
   "execution_count": 3,
   "id": "bc3e9be1",
   "metadata": {},
   "outputs": [
    {
     "data": {
      "text/plain": [
       "array(['B-LOC', 'B-MISC', 'B-ORG', 'B-PER', 'I-LOC', 'I-MISC', 'I-ORG',\n",
       "       'I-PER', 'O'], dtype='<U6')"
      ]
     },
     "execution_count": 3,
     "metadata": {},
     "output_type": "execute_result"
    }
   ],
   "source": [
    "tag"
   ]
  },
  {
   "cell_type": "code",
   "execution_count": 8,
   "id": "2bd1a069",
   "metadata": {},
   "outputs": [
    {
     "data": {
      "text/plain": [
       "[['you', 'eat', 'fish'], ['you', 'fish', 'eat']]"
      ]
     },
     "execution_count": 8,
     "metadata": {},
     "output_type": "execute_result"
    }
   ],
   "source": [
    "sentences = [['you', 'eat', 'fish'], ['you', 'fish', 'eat'], ['eat', 'fish']]\n",
    "sentences[0:2]"
   ]
  },
  {
   "cell_type": "code",
   "execution_count": 11,
   "id": "267fe981",
   "metadata": {},
   "outputs": [
    {
     "data": {
      "image/png": "[encoded data removed]",
      "text/plain": [
       "<Figure size 432x288 with 1 Axes>"
      ]
     },
     "metadata": {
      "needs_background": "light"
     },
     "output_type": "display_data"
    }
   ],
   "source": [
    "import numpy as np\n",
    "\n",
    "Sequences = [10, 100, 1000, 10000]\n",
    "Sequences = np.log(Sequences)\n",
    "Train = [-80.54, -74.99, -67.59, -60.61]\n",
    "Validation = [-87.97, -80.83, -70.46, -61.09]\n",
    "\n",
    "import matplotlib.pyplot as plt\n",
    "\n",
    "plt.plot(Sequences,Train,label = \"Train Average Log-Likelihood\")\n",
    "plt.plot(Sequences,Validation, label = \"Validation Average Log-Likelihood\")\n",
    "\n",
    "plt.xlabel(\"Number of Sequences (log scale)\",fontsize=13)\n",
    "plt.ylabel(\"Average Log-Likelihood\",fontsize=13)\n",
    "plt.legend()\n",
    "plt.show()"
   ]
  },
  {
   "cell_type": "code",
   "execution_count": null,
   "id": "7a4c6924",
   "metadata": {},
   "outputs": [],
   "source": []
  }
 ],
 "metadata": {
  "celltoolbar": "原始单元格格式",
  "kernelspec": {
   "display_name": "Python 3 (ipykernel)",
   "language": "python",
   "name": "python3"
  },
  "language_info": {
   "codemirror_mode": {
    "name": "ipython",
    "version": 3
   },
   "file_extension": ".py",
   "mimetype": "text/x-python",
   "name": "python",
   "nbconvert_exporter": "python",
   "pygments_lexer": "ipython3",
   "version": "3.9.7"
  }
 },
 "nbformat": 4,
 "nbformat_minor": 5
}
