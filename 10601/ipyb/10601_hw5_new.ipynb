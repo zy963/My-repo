{
 "cells": [
  {
   "cell_type": "code",
   "execution_count": 1,
   "id": "90e7d5f5",
   "metadata": {},
   "outputs": [],
   "source": [
    "import numpy as np"
   ]
  },
  {
   "cell_type": "code",
   "execution_count": 2,
   "id": "bdf608d0",
   "metadata": {},
   "outputs": [],
   "source": [
    "train_data_path = r'C:\\Users\\Zheyi\\Documents\\CMU\\10601\\hw5_new\\handout\\small_train_data.csv'\n",
    "val_data_path = r'C:\\Users\\Zheyi\\Documents\\CMU\\10601\\hw5_new\\handout\\small_validation_data.csv'"
   ]
  },
  {
   "cell_type": "code",
   "execution_count": 3,
   "id": "b3272050",
   "metadata": {},
   "outputs": [],
   "source": [
    "def load_data(file_path):\n",
    "    data = np.loadtxt(file_path, delimiter=',')\n",
    "    label = data[:, 0].astype(int)\n",
    "    input_x = np.hstack((np.ones((len(data),1)), data)) # add bias term\n",
    "    input_x = np.delete(input_x, 1, axis = 1) # delete label\n",
    "#     y = np.eye(10)[np.array(label)]\n",
    "    return input_x, label"
   ]
  },
  {
   "cell_type": "code",
   "execution_count": 4,
   "id": "c67cfef5",
   "metadata": {},
   "outputs": [],
   "source": [
    "train_input_x, train_label = load_data(train_data_path)"
   ]
  },
  {
   "cell_type": "code",
   "execution_count": 5,
   "id": "af91445e",
   "metadata": {},
   "outputs": [
    {
     "data": {
      "text/plain": [
       "(500, 129)"
      ]
     },
     "execution_count": 5,
     "metadata": {},
     "output_type": "execute_result"
    }
   ],
   "source": [
    "np.shape(train_input_x) # 500 examples, 129 features for each label"
   ]
  },
  {
   "cell_type": "code",
   "execution_count": 6,
   "id": "290afbb0",
   "metadata": {},
   "outputs": [],
   "source": [
    "def shuffle(x, y, epoch):\n",
    "    np.random.seed(epoch)\n",
    "    n = len(y)\n",
    "    ordering = np.random.permutation(n)\n",
    "    return x[ordering], y[ordering]"
   ]
  },
  {
   "cell_type": "code",
   "execution_count": 7,
   "id": "245cdd4c",
   "metadata": {},
   "outputs": [],
   "source": [
    "def random_init(x, y):\n",
    "    np.random.seed(np.prod((x, y)))\n",
    "    weights = np.random.uniform(-0.1, 0.1, (x, y))\n",
    "    weights[:, 0] = 0.0\n",
    "    return weights"
   ]
  },
  {
   "cell_type": "code",
   "execution_count": 8,
   "id": "656928a3",
   "metadata": {},
   "outputs": [],
   "source": [
    "def zero_init(x, y):\n",
    "    weights = np.zeros((x, y))\n",
    "    return weights"
   ]
  },
  {
   "cell_type": "code",
   "execution_count": 9,
   "id": "f8ab65e6",
   "metadata": {},
   "outputs": [],
   "source": [
    "def initial_weight(init_flag, D, M): # D: number of hidden units; M: length of each example\n",
    "    if init_flag == 1:\n",
    "        alpha = random_init(D, M + 1)\n",
    "        beta = random_init(10, D + 1)\n",
    "    elif init_flag == 2:\n",
    "        alpha = zero_init(D, M + 1)\n",
    "        beta = zero_init(10, D + 1)\n",
    "    print(alpha)\n",
    "    return alpha, beta"
   ]
  },
  {
   "cell_type": "code",
   "execution_count": 10,
   "id": "1c9355cc",
   "metadata": {},
   "outputs": [
    {
     "ename": "UnboundLocalError",
     "evalue": "local variable 'alpha' referenced before assignment",
     "output_type": "error",
     "traceback": [
      "\u001b[1;31m---------------------------------------------------------------------------\u001b[0m",
      "\u001b[1;31mUnboundLocalError\u001b[0m                         Traceback (most recent call last)",
      "\u001b[1;32m~\\AppData\\Local\\Temp/ipykernel_11980/1342843219.py\u001b[0m in \u001b[0;36m<module>\u001b[1;34m\u001b[0m\n\u001b[1;32m----> 1\u001b[1;33m \u001b[0malpha\u001b[0m\u001b[1;33m,\u001b[0m \u001b[0mbeta\u001b[0m \u001b[1;33m=\u001b[0m \u001b[0minitial_weight\u001b[0m\u001b[1;33m(\u001b[0m\u001b[1;36m2\u001b[0m\u001b[1;33m,\u001b[0m \u001b[1;36m10\u001b[0m\u001b[1;33m,\u001b[0m \u001b[1;36m129\u001b[0m\u001b[1;33m)\u001b[0m\u001b[1;33m\u001b[0m\u001b[1;33m\u001b[0m\u001b[0m\n\u001b[0m",
      "\u001b[1;32m~\\AppData\\Local\\Temp/ipykernel_11980/117000903.py\u001b[0m in \u001b[0;36minitial_weight\u001b[1;34m(init_flag, D, M)\u001b[0m\n\u001b[0;32m      7\u001b[0m         \u001b[0malpha\u001b[0m \u001b[1;33m=\u001b[0m \u001b[0mzero_init\u001b[0m\u001b[1;33m(\u001b[0m\u001b[0mD\u001b[0m\u001b[1;33m,\u001b[0m \u001b[0mM\u001b[0m \u001b[1;33m+\u001b[0m \u001b[1;36m1\u001b[0m\u001b[1;33m)\u001b[0m\u001b[1;33m\u001b[0m\u001b[1;33m\u001b[0m\u001b[0m\n\u001b[0;32m      8\u001b[0m         \u001b[0mbeta\u001b[0m \u001b[1;33m=\u001b[0m \u001b[0mzero_init\u001b[0m\u001b[1;33m(\u001b[0m\u001b[1;36m10\u001b[0m\u001b[1;33m,\u001b[0m \u001b[0mD\u001b[0m \u001b[1;33m+\u001b[0m \u001b[1;36m1\u001b[0m\u001b[1;33m)\u001b[0m\u001b[1;33m\u001b[0m\u001b[1;33m\u001b[0m\u001b[0m\n\u001b[1;32m----> 9\u001b[1;33m     \u001b[0mprint\u001b[0m\u001b[1;33m(\u001b[0m\u001b[0malpha\u001b[0m\u001b[1;33m)\u001b[0m\u001b[1;33m\u001b[0m\u001b[1;33m\u001b[0m\u001b[0m\n\u001b[0m\u001b[0;32m     10\u001b[0m     \u001b[1;32mreturn\u001b[0m \u001b[0malpha\u001b[0m\u001b[1;33m,\u001b[0m \u001b[0mbeta\u001b[0m\u001b[1;33m\u001b[0m\u001b[1;33m\u001b[0m\u001b[0m\n",
      "\u001b[1;31mUnboundLocalError\u001b[0m: local variable 'alpha' referenced before assignment"
     ]
    }
   ],
   "source": [
    "alpha, beta = initial_weight(2, 10, 129)"
   ]
  },
  {
   "cell_type": "code",
   "execution_count": 10,
   "id": "96c23d16",
   "metadata": {},
   "outputs": [],
   "source": [
    "def sigmoid(a):\n",
    "    return 1.0 / (1.0 + np.exp(-a))\n",
    "\n",
    "\n",
    "def softmax(a):\n",
    "    return np.exp(a) / np.sum(np.exp(a))"
   ]
  },
  {
   "cell_type": "code",
   "execution_count": 19,
   "id": "cc670a1e",
   "metadata": {},
   "outputs": [],
   "source": [
    "def cross_entropy(y_hat, y):\n",
    "    return -np.dot(y.T, np.log(y_hat))"
   ]
  },
  {
   "cell_type": "code",
   "execution_count": 20,
   "id": "fc22cc8b",
   "metadata": {},
   "outputs": [],
   "source": [
    "def forward(x, y, alpha, beta): # x is one example, y is the corresponding label\n",
    "    a = np.dot(x, alpha);\n",
    "    z_star = sigmoid(a)\n",
    "    z = np.vstack((np.array([1]), z_star)) # add z_0, column vector, M+1 * 1\n",
    "    \n",
    "    b = np.dot(z, beta)\n",
    "    y_hat = softmax(b) # row vector, 1 * 10\n",
    "    \n",
    "    cross_en = cross_entropy(y_hat, y)\n",
    "    \n",
    "    return a, b, z, y_hat, cross_en"
   ]
  },
  {
   "cell_type": "code",
   "execution_count": null,
   "id": "29477a0e",
   "metadata": {},
   "outputs": [],
   "source": [
    "def backward()"
   ]
  },
  {
   "cell_type": "code",
   "execution_count": 12,
   "id": "390ccdfe",
   "metadata": {},
   "outputs": [
    {
     "data": {
      "text/plain": [
       "array([0, 1, 2])"
      ]
     },
     "execution_count": 12,
     "metadata": {},
     "output_type": "execute_result"
    }
   ],
   "source": [
    "z = np.array(([0, 1, 2]))\n",
    "z.T"
   ]
  },
  {
   "cell_type": "code",
   "execution_count": 13,
   "id": "379234ca",
   "metadata": {},
   "outputs": [
    {
     "data": {
      "text/plain": [
       "array([[0],\n",
       "       [1],\n",
       "       [2]])"
      ]
     },
     "execution_count": 13,
     "metadata": {},
     "output_type": "execute_result"
    }
   ],
   "source": [
    "z.reshape(-1, 1)"
   ]
  },
  {
   "cell_type": "markdown",
   "id": "b6ad1de5",
   "metadata": {},
   "source": [
    "python3 learnhmm.py toy_data/train.txt toy_data/index_to_word.txt toy_data/index_to_tag.txt toy_data/hmminit.txt toy_data/hmmemit.txt toy_data/hmmtrans.txt"
   ]
  },
  {
   "cell_type": "code",
   "execution_count": 16,
   "id": "576585c9",
   "metadata": {},
   "outputs": [
    {
     "data": {
      "text/plain": [
       "array([-3, -3, -3])"
      ]
     },
     "execution_count": 16,
     "metadata": {},
     "output_type": "execute_result"
    }
   ],
   "source": [
    "a = np.array(([0, 1, 2]))\n",
    "b = np.array(([3, 4, 5]))\n",
    "a - b"
   ]
  },
  {
   "cell_type": "code",
   "execution_count": 23,
   "id": "a4e72144",
   "metadata": {},
   "outputs": [
    {
     "data": {
      "text/plain": [
       "array([[ 1],\n",
       "       [ 0],\n",
       "       [-1]])"
      ]
     },
     "execution_count": 23,
     "metadata": {},
     "output_type": "execute_result"
    }
   ],
   "source": [
    "z = np.array(([0, 1, 2]))\n",
    "(1-z).reshape(-1, 1)"
   ]
  },
  {
   "cell_type": "code",
   "execution_count": 25,
   "id": "ba547779",
   "metadata": {},
   "outputs": [
    {
     "data": {
      "text/plain": [
       "array([[ 0],\n",
       "       [ 0],\n",
       "       [-2]])"
      ]
     },
     "execution_count": 25,
     "metadata": {},
     "output_type": "execute_result"
    }
   ],
   "source": [
    "z = np.array(([0, 1, 2]))\n",
    "c = np.multiply(z.reshape(-1, 1), (1 - z).reshape(-1, 1))\n",
    "c"
   ]
  },
  {
   "cell_type": "code",
   "execution_count": 26,
   "id": "45a39ffe",
   "metadata": {},
   "outputs": [
    {
     "data": {
      "text/plain": [
       "array([[  0],\n",
       "       [  0],\n",
       "       [-10]])"
      ]
     },
     "execution_count": 26,
     "metadata": {},
     "output_type": "execute_result"
    }
   ],
   "source": [
    "b = np.array(([3, 4, 5]))\n",
    "np.multiply(c, b.reshape(-1, 1))"
   ]
  },
  {
   "cell_type": "code",
   "execution_count": 27,
   "id": "528897bd",
   "metadata": {},
   "outputs": [
    {
     "data": {
      "text/plain": [
       "array([[ 0],\n",
       "       [ 0],\n",
       "       [-2]])"
      ]
     },
     "execution_count": 27,
     "metadata": {},
     "output_type": "execute_result"
    }
   ],
   "source": [
    "a = np.array(([0, 1, 2]))\n",
    "b = np.array(([3, 4, 5]))\n",
    "np.multiply(a.reshape(-1, 1), (1 - a).reshape(-1, 1), b.reshape(-1, 1))"
   ]
  },
  {
   "cell_type": "code",
   "execution_count": 33,
   "id": "7c851137",
   "metadata": {},
   "outputs": [
    {
     "data": {
      "text/plain": [
       "array([[0., 1., 0., 0., 0., 0., 0., 0., 0., 0.],\n",
       "       [0., 0., 1., 0., 0., 0., 0., 0., 0., 0.],\n",
       "       [1., 0., 0., 0., 0., 0., 0., 0., 0., 0.],\n",
       "       [0., 0., 0., 1., 0., 0., 0., 0., 0., 0.]])"
      ]
     },
     "execution_count": 33,
     "metadata": {},
     "output_type": "execute_result"
    }
   ],
   "source": [
    "label = [1, 2, 0, 3]\n",
    "y = np.eye(10)[np.array(label)]\n",
    "y"
   ]
  },
  {
   "cell_type": "code",
   "execution_count": 35,
   "id": "f6c5a542",
   "metadata": {},
   "outputs": [
    {
     "data": {
      "text/plain": [
       "array([0., 0., 1., 0., 0., 0., 0., 0., 0., 0.])"
      ]
     },
     "execution_count": 35,
     "metadata": {},
     "output_type": "execute_result"
    }
   ],
   "source": [
    "y[1]"
   ]
  },
  {
   "cell_type": "code",
   "execution_count": 32,
   "id": "6261ea23",
   "metadata": {},
   "outputs": [
    {
     "data": {
      "text/plain": [
       "array([0., 0., 0., 1., 0., 0., 0., 0., 0., 0.])"
      ]
     },
     "execution_count": 32,
     "metadata": {},
     "output_type": "execute_result"
    }
   ],
   "source": [
    "labels = [1, 2, 0, 3]\n",
    "for j in range(len(labels)):\n",
    "    label = labels[j]\n",
    "    y = np.zeros(10)\n",
    "    y[label] = 1\n",
    "    \n",
    "y"
   ]
  },
  {
   "cell_type": "code",
   "execution_count": null,
   "id": "868c7778",
   "metadata": {},
   "outputs": [],
   "source": []
  }
 ],
 "metadata": {
  "kernelspec": {
   "display_name": "Python 3 (ipykernel)",
   "language": "python",
   "name": "python3"
  },
  "language_info": {
   "codemirror_mode": {
    "name": "ipython",
    "version": 3
   },
   "file_extension": ".py",
   "mimetype": "text/x-python",
   "name": "python",
   "nbconvert_exporter": "python",
   "pygments_lexer": "ipython3",
   "version": "3.9.7"
  }
 },
 "nbformat": 4,
 "nbformat_minor": 5
}
