{
 "cells": [
  {
   "cell_type": "code",
   "execution_count": 1,
   "id": "549a2535",
   "metadata": {},
   "outputs": [],
   "source": [
    "import numpy as np\n",
    "import math"
   ]
  },
  {
   "cell_type": "code",
   "execution_count": 2,
   "id": "f5c37912",
   "metadata": {},
   "outputs": [],
   "source": [
    "file_path = 'C:\\\\Users\\\\Zheyi\\\\Documents\\\\CMU\\\\10601\\\\hw2\\\\handout\\\\politicians_train.tsv'\n",
    "data = np.genfromtxt(file_path, delimiter=\"\\t\", dtype=None, encoding=None)\n",
    "data = data[1:]"
   ]
  },
  {
   "cell_type": "code",
   "execution_count": 3,
   "id": "2914ea1a",
   "metadata": {},
   "outputs": [],
   "source": [
    "feature_index = 7"
   ]
  },
  {
   "cell_type": "code",
   "execution_count": 4,
   "id": "9db139ba",
   "metadata": {},
   "outputs": [
    {
     "data": {
      "text/plain": [
       "(array(['democrat', 'republican'], dtype='<U25'),\n",
       " array(['democrat', 'republican'], dtype='<U25'))"
      ]
     },
     "execution_count": 4,
     "metadata": {},
     "output_type": "execute_result"
    }
   ],
   "source": [
    "count1 = 0\n",
    "count2 = 0\n",
    "count3 = 0\n",
    "count4 = 0\n",
    "\n",
    "feature_values = data[:, [feature_index]]\n",
    "unique_values = np.unique(feature_values)\n",
    "labels = data[:, [-1]]\n",
    "unique_labels = np.unique(labels)\n",
    "unique_values, unique_labels"
   ]
  },
  {
   "cell_type": "code",
   "execution_count": 5,
   "id": "c785cab0",
   "metadata": {},
   "outputs": [],
   "source": [
    "for current in data:\n",
    "    if current[feature_index] == unique_values[0] and current[-1] == unique_labels[0]:\n",
    "        count1 += 1\n",
    "    elif current[feature_index] == unique_values[1] and current[-1] == unique_labels[0]:\n",
    "        count2 += 1\n",
    "    elif current[feature_index] == unique_values[0] and current[-1] == unique_labels[1]:\n",
    "        count3 += 1\n",
    "    elif current[feature_index] == unique_values[1] and current[-1] == unique_labels[1]:\n",
    "        count4 += 1"
   ]
  },
  {
   "cell_type": "code",
   "execution_count": 6,
   "id": "db1768f6",
   "metadata": {},
   "outputs": [
    {
     "data": {
      "text/plain": [
       "(83, 0, 0, 66)"
      ]
     },
     "execution_count": 6,
     "metadata": {},
     "output_type": "execute_result"
    }
   ],
   "source": [
    "count1, count2, count3, count4"
   ]
  },
  {
   "cell_type": "code",
   "execution_count": 7,
   "id": "3d1ebee1",
   "metadata": {},
   "outputs": [
    {
     "ename": "ValueError",
     "evalue": "math domain error",
     "output_type": "error",
     "traceback": [
      "\u001b[1;31m---------------------------------------------------------------------------\u001b[0m",
      "\u001b[1;31mValueError\u001b[0m                                Traceback (most recent call last)",
      "\u001b[1;32m~\\AppData\\Local\\Temp/ipykernel_15320/3361544166.py\u001b[0m in \u001b[0;36m<module>\u001b[1;34m\u001b[0m\n\u001b[0;32m      1\u001b[0m \u001b[0mtemp1\u001b[0m \u001b[1;33m=\u001b[0m \u001b[1;33m(\u001b[0m\u001b[0mcount1\u001b[0m \u001b[1;33m/\u001b[0m \u001b[1;33m(\u001b[0m\u001b[0mcount1\u001b[0m \u001b[1;33m+\u001b[0m \u001b[0mcount3\u001b[0m\u001b[1;33m)\u001b[0m\u001b[1;33m)\u001b[0m \u001b[1;33m*\u001b[0m \u001b[0mmath\u001b[0m\u001b[1;33m.\u001b[0m\u001b[0mlog\u001b[0m\u001b[1;33m(\u001b[0m\u001b[0mcount1\u001b[0m \u001b[1;33m/\u001b[0m \u001b[1;33m(\u001b[0m\u001b[0mcount1\u001b[0m \u001b[1;33m+\u001b[0m \u001b[0mcount3\u001b[0m\u001b[1;33m)\u001b[0m\u001b[1;33m,\u001b[0m \u001b[1;36m2\u001b[0m\u001b[1;33m)\u001b[0m\u001b[1;33m\u001b[0m\u001b[1;33m\u001b[0m\u001b[0m\n\u001b[1;32m----> 2\u001b[1;33m \u001b[0mtemp2\u001b[0m \u001b[1;33m=\u001b[0m \u001b[1;33m(\u001b[0m\u001b[0mcount2\u001b[0m \u001b[1;33m/\u001b[0m \u001b[1;33m(\u001b[0m\u001b[0mcount2\u001b[0m \u001b[1;33m+\u001b[0m \u001b[0mcount4\u001b[0m\u001b[1;33m)\u001b[0m\u001b[1;33m)\u001b[0m \u001b[1;33m*\u001b[0m \u001b[0mmath\u001b[0m\u001b[1;33m.\u001b[0m\u001b[0mlog\u001b[0m\u001b[1;33m(\u001b[0m\u001b[0mcount2\u001b[0m \u001b[1;33m/\u001b[0m \u001b[1;33m(\u001b[0m\u001b[0mcount2\u001b[0m \u001b[1;33m+\u001b[0m \u001b[0mcount4\u001b[0m\u001b[1;33m)\u001b[0m\u001b[1;33m,\u001b[0m \u001b[1;36m2\u001b[0m\u001b[1;33m)\u001b[0m\u001b[1;33m\u001b[0m\u001b[1;33m\u001b[0m\u001b[0m\n\u001b[0m\u001b[0;32m      3\u001b[0m \u001b[0mtemp3\u001b[0m \u001b[1;33m=\u001b[0m \u001b[1;33m(\u001b[0m\u001b[0mcount3\u001b[0m \u001b[1;33m/\u001b[0m \u001b[1;33m(\u001b[0m\u001b[0mcount1\u001b[0m \u001b[1;33m+\u001b[0m \u001b[0mcount3\u001b[0m\u001b[1;33m)\u001b[0m\u001b[1;33m)\u001b[0m \u001b[1;33m*\u001b[0m \u001b[0mmath\u001b[0m\u001b[1;33m.\u001b[0m\u001b[0mlog\u001b[0m\u001b[1;33m(\u001b[0m\u001b[0mcount3\u001b[0m \u001b[1;33m/\u001b[0m \u001b[1;33m(\u001b[0m\u001b[0mcount1\u001b[0m \u001b[1;33m+\u001b[0m \u001b[0mcount3\u001b[0m\u001b[1;33m)\u001b[0m\u001b[1;33m,\u001b[0m \u001b[1;36m2\u001b[0m\u001b[1;33m)\u001b[0m\u001b[1;33m\u001b[0m\u001b[1;33m\u001b[0m\u001b[0m\n\u001b[0;32m      4\u001b[0m \u001b[0mtemp4\u001b[0m \u001b[1;33m=\u001b[0m \u001b[1;33m(\u001b[0m\u001b[0mcount4\u001b[0m \u001b[1;33m/\u001b[0m \u001b[1;33m(\u001b[0m\u001b[0mcount2\u001b[0m \u001b[1;33m+\u001b[0m \u001b[0mcount4\u001b[0m\u001b[1;33m)\u001b[0m\u001b[1;33m)\u001b[0m \u001b[1;33m*\u001b[0m \u001b[0mmath\u001b[0m\u001b[1;33m.\u001b[0m\u001b[0mlog\u001b[0m\u001b[1;33m(\u001b[0m\u001b[0mcount4\u001b[0m \u001b[1;33m/\u001b[0m \u001b[1;33m(\u001b[0m\u001b[0mcount2\u001b[0m \u001b[1;33m+\u001b[0m \u001b[0mcount4\u001b[0m\u001b[1;33m)\u001b[0m\u001b[1;33m,\u001b[0m \u001b[1;36m2\u001b[0m\u001b[1;33m)\u001b[0m\u001b[1;33m\u001b[0m\u001b[1;33m\u001b[0m\u001b[0m\n\u001b[0;32m      5\u001b[0m \u001b[0mcon_entropy\u001b[0m \u001b[1;33m=\u001b[0m \u001b[1;33m-\u001b[0m\u001b[1;33m(\u001b[0m\u001b[1;33m(\u001b[0m\u001b[0mcount1\u001b[0m \u001b[1;33m+\u001b[0m \u001b[0mcount3\u001b[0m\u001b[1;33m)\u001b[0m \u001b[1;33m/\u001b[0m \u001b[0mlen\u001b[0m\u001b[1;33m(\u001b[0m\u001b[0mdata\u001b[0m\u001b[1;33m)\u001b[0m\u001b[1;33m)\u001b[0m \u001b[1;33m*\u001b[0m \u001b[1;33m(\u001b[0m\u001b[0mtemp1\u001b[0m \u001b[1;33m+\u001b[0m \u001b[0mtemp3\u001b[0m\u001b[1;33m)\u001b[0m \u001b[1;33m-\u001b[0m \u001b[1;33m(\u001b[0m\u001b[1;33m(\u001b[0m\u001b[0mcount2\u001b[0m \u001b[1;33m+\u001b[0m \u001b[0mcount4\u001b[0m\u001b[1;33m)\u001b[0m \u001b[1;33m/\u001b[0m \u001b[0mlen\u001b[0m\u001b[1;33m(\u001b[0m\u001b[0mdata\u001b[0m\u001b[1;33m)\u001b[0m\u001b[1;33m)\u001b[0m \u001b[1;33m*\u001b[0m \u001b[1;33m(\u001b[0m\u001b[0mtemp2\u001b[0m \u001b[1;33m+\u001b[0m \u001b[0mtemp4\u001b[0m\u001b[1;33m)\u001b[0m\u001b[1;33m\u001b[0m\u001b[1;33m\u001b[0m\u001b[0m\n",
      "\u001b[1;31mValueError\u001b[0m: math domain error"
     ]
    }
   ],
   "source": [
    "temp1 = (count1 / (count1 + count3)) * math.log(count1 / (count1 + count3), 2)\n",
    "temp2 = (count2 / (count2 + count4)) * math.log(count2 / (count2 + count4), 2)\n",
    "temp3 = (count3 / (count1 + count3)) * math.log(count3 / (count1 + count3), 2)\n",
    "temp4 = (count4 / (count2 + count4)) * math.log(count4 / (count2 + count4), 2)\n",
    "con_entropy = -((count1 + count3) / len(data)) * (temp1 + temp3) - ((count2 + count4) / len(data)) * (temp2 + temp4)\n",
    "con_entropy"
   ]
  },
  {
   "cell_type": "code",
   "execution_count": null,
   "id": "1a85212e",
   "metadata": {},
   "outputs": [],
   "source": [
    "def predict(node , example):\n",
    "    if node.vote is not None:\n",
    "        return node.vote\n",
    "    if example[node.attr] == 1:\n",
    "        return node.left.vote\n",
    "    else:\n",
    "        return node.right.vote"
   ]
  },
  {
   "cell_type": "code",
   "execution_count": null,
   "id": "25810f64",
   "metadata": {},
   "outputs": [],
   "source": [
    "def predict(node , example):\n",
    "    if node.vote is not None:\n",
    "        return node.vote\n",
    "    return node.left.vote if example[node.attr] == 1 else node.right.vote"
   ]
  }
 ],
 "metadata": {
  "kernelspec": {
   "display_name": "Python 3 (ipykernel)",
   "language": "python",
   "name": "python3"
  },
  "language_info": {
   "codemirror_mode": {
    "name": "ipython",
    "version": 3
   },
   "file_extension": ".py",
   "mimetype": "text/x-python",
   "name": "python",
   "nbconvert_exporter": "python",
   "pygments_lexer": "ipython3",
   "version": "3.9.7"
  }
 },
 "nbformat": 4,
 "nbformat_minor": 5
}
