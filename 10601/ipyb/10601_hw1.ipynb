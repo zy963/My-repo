{
 "cells": [
  {
   "cell_type": "code",
   "execution_count": 1,
   "id": "ae16c77a",
   "metadata": {},
   "outputs": [],
   "source": [
    "import numpy as np"
   ]
  },
  {
   "cell_type": "markdown",
   "id": "44f039a5",
   "metadata": {},
   "source": [
    "Politician Train: M = democrat"
   ]
  },
  {
   "cell_type": "code",
   "execution_count": 2,
   "id": "f1c23a80",
   "metadata": {},
   "outputs": [],
   "source": [
    "f_train = \"C:/Users/Zheyi/Documents/CMU/10601/hw1/hw1_release/handout/politicians_train.tsv\"\n",
    "data_train = np.genfromtxt(f_train, delimiter=\"\\t\", dtype=None, encoding=None)"
   ]
  },
  {
   "cell_type": "code",
   "execution_count": 3,
   "id": "d95c3e2d",
   "metadata": {},
   "outputs": [
    {
     "data": {
      "text/plain": [
       "149"
      ]
     },
     "execution_count": 3,
     "metadata": {},
     "output_type": "execute_result"
    }
   ],
   "source": [
    "len(data_train) - 1"
   ]
  },
  {
   "cell_type": "code",
   "execution_count": 4,
   "id": "0afe484d",
   "metadata": {},
   "outputs": [
    {
     "data": {
      "text/plain": [
       "83"
      ]
     },
     "execution_count": 4,
     "metadata": {},
     "output_type": "execute_result"
    }
   ],
   "source": [
    "count_train_d = 0\n",
    "for value in data_train[1:,-1]:\n",
    "    if value == 'democrat':\n",
    "        count_train_d += 1\n",
    "        \n",
    "count_train_d"
   ]
  },
  {
   "cell_type": "code",
   "execution_count": 5,
   "id": "2e6fa8bd",
   "metadata": {},
   "outputs": [
    {
     "data": {
      "text/plain": [
       "66"
      ]
     },
     "execution_count": 5,
     "metadata": {},
     "output_type": "execute_result"
    }
   ],
   "source": [
    "count_train_r = 0\n",
    "for value in data_train[1:,-1]:\n",
    "    if value == 'republican':\n",
    "        count_train_r += 1\n",
    "        \n",
    "count_train_r"
   ]
  },
  {
   "cell_type": "markdown",
   "id": "a02adb95",
   "metadata": {},
   "source": [
    "Politician Test: M = republican"
   ]
  },
  {
   "cell_type": "code",
   "execution_count": 6,
   "id": "cd616b78",
   "metadata": {},
   "outputs": [],
   "source": [
    "f_test = \"C:/Users/Zheyi/Documents/CMU/10601/hw1/hw1_release/handout/politicians_test.tsv\"\n",
    "data_test = np.genfromtxt(f_test, delimiter=\"\\t\", dtype=None, encoding=None)"
   ]
  },
  {
   "cell_type": "code",
   "execution_count": 7,
   "id": "cbb52c4e",
   "metadata": {},
   "outputs": [
    {
     "data": {
      "text/plain": [
       "83"
      ]
     },
     "execution_count": 7,
     "metadata": {},
     "output_type": "execute_result"
    }
   ],
   "source": [
    "len(data_test) - 1"
   ]
  },
  {
   "cell_type": "code",
   "execution_count": 8,
   "id": "5cb3848a",
   "metadata": {},
   "outputs": [
    {
     "data": {
      "text/plain": [
       "41"
      ]
     },
     "execution_count": 8,
     "metadata": {},
     "output_type": "execute_result"
    }
   ],
   "source": [
    "count_test_d = 0\n",
    "for value in data_test[1:,-1]:\n",
    "    if value == 'democrat':\n",
    "        count_test_d += 1\n",
    "        \n",
    "count_test_d"
   ]
  },
  {
   "cell_type": "code",
   "execution_count": 9,
   "id": "1cda152f",
   "metadata": {},
   "outputs": [
    {
     "data": {
      "text/plain": [
       "42"
      ]
     },
     "execution_count": 9,
     "metadata": {},
     "output_type": "execute_result"
    }
   ],
   "source": [
    "count_test_r = 0\n",
    "for value in data_test[1:,-1]:\n",
    "    if value == 'republican':\n",
    "        count_test_r += 1\n",
    "        \n",
    "count_test_r"
   ]
  },
  {
   "cell_type": "markdown",
   "id": "32c0ff85",
   "metadata": {},
   "source": [
    "Education Train: M = A"
   ]
  },
  {
   "cell_type": "code",
   "execution_count": 10,
   "id": "9c3abc0d",
   "metadata": {},
   "outputs": [],
   "source": [
    "f_train2 = \"C:/Users/Zheyi/Documents/CMU/10601/hw1/hw1_release/handout/education_train.tsv\"\n",
    "data_train2 = np.genfromtxt(f_train2, delimiter=\"\\t\", dtype=None, encoding=None)"
   ]
  },
  {
   "cell_type": "code",
   "execution_count": 11,
   "id": "edc628d1",
   "metadata": {},
   "outputs": [
    {
     "data": {
      "text/plain": [
       "200"
      ]
     },
     "execution_count": 11,
     "metadata": {},
     "output_type": "execute_result"
    }
   ],
   "source": [
    "len(data_train2) - 1"
   ]
  },
  {
   "cell_type": "code",
   "execution_count": 12,
   "id": "8c614b51",
   "metadata": {},
   "outputs": [
    {
     "data": {
      "text/plain": [
       "135"
      ]
     },
     "execution_count": 12,
     "metadata": {},
     "output_type": "execute_result"
    }
   ],
   "source": [
    "count_train_A = 0\n",
    "for value in data_train2[1:,-1]:\n",
    "    if value == 'A':\n",
    "        count_train_A += 1\n",
    "        \n",
    "count_train_A"
   ]
  },
  {
   "cell_type": "code",
   "execution_count": 13,
   "id": "b11942c9",
   "metadata": {},
   "outputs": [
    {
     "data": {
      "text/plain": [
       "65"
      ]
     },
     "execution_count": 13,
     "metadata": {},
     "output_type": "execute_result"
    }
   ],
   "source": [
    "count_train_n = 0\n",
    "for value in data_train2[1:,-1]:\n",
    "    if value == 'notA':\n",
    "        count_train_n += 1\n",
    "        \n",
    "count_train_n"
   ]
  },
  {
   "cell_type": "markdown",
   "id": "1d1493ff",
   "metadata": {},
   "source": [
    "Education Test: M = A"
   ]
  },
  {
   "cell_type": "code",
   "execution_count": 14,
   "id": "c2ba0c3e",
   "metadata": {},
   "outputs": [],
   "source": [
    "f_test2 = \"C:/Users/Zheyi/Documents/CMU/10601/hw1/hw1_release/handout/education_test.tsv\"\n",
    "data_test2 = np.genfromtxt(f_test2, delimiter=\"\\t\", dtype=None, encoding=None)"
   ]
  },
  {
   "cell_type": "code",
   "execution_count": 15,
   "id": "dfb8e353",
   "metadata": {},
   "outputs": [
    {
     "data": {
      "text/plain": [
       "200"
      ]
     },
     "execution_count": 15,
     "metadata": {},
     "output_type": "execute_result"
    }
   ],
   "source": [
    "len(data_test2) - 1"
   ]
  },
  {
   "cell_type": "code",
   "execution_count": 16,
   "id": "adf8c58b",
   "metadata": {},
   "outputs": [
    {
     "data": {
      "text/plain": [
       "138"
      ]
     },
     "execution_count": 16,
     "metadata": {},
     "output_type": "execute_result"
    }
   ],
   "source": [
    "count_test_A = 0\n",
    "for value in data_test2[1:,-1]:\n",
    "    if value == 'A':\n",
    "        count_test_A += 1\n",
    "        \n",
    "count_test_A"
   ]
  },
  {
   "cell_type": "code",
   "execution_count": 17,
   "id": "77d68321",
   "metadata": {},
   "outputs": [
    {
     "data": {
      "text/plain": [
       "62"
      ]
     },
     "execution_count": 17,
     "metadata": {},
     "output_type": "execute_result"
    }
   ],
   "source": [
    "count_test_n = 0\n",
    "for value in data_test2[1:,-1]:\n",
    "    if value == 'notA':\n",
    "        count_test_n += 1\n",
    "        \n",
    "count_test_n"
   ]
  }
 ],
 "metadata": {
  "kernelspec": {
   "display_name": "Python 3 (ipykernel)",
   "language": "python",
   "name": "python3"
  },
  "language_info": {
   "codemirror_mode": {
    "name": "ipython",
    "version": 3
   },
   "file_extension": ".py",
   "mimetype": "text/x-python",
   "name": "python",
   "nbconvert_exporter": "python",
   "pygments_lexer": "ipython3",
   "version": "3.9.7"
  }
 },
 "nbformat": 4,
 "nbformat_minor": 5
}
