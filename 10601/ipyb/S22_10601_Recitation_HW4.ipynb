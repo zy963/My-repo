{
 "cells": [
  {
   "cell_type": "markdown",
   "metadata": {
    "id": "JRsCnH4e5JqH"
   },
   "source": [
    "# Part 1: Speed Comparison: Numpy vs. Python"
   ]
  },
  {
   "cell_type": "code",
   "execution_count": 2,
   "metadata": {
    "executionInfo": {
     "elapsed": 197,
     "status": "ok",
     "timestamp": 1645197678579,
     "user": {
      "displayName": "Sana Lakdawala",
      "photoUrl": "https://lh3.googleusercontent.com/a-/AOh14GjtcWATTb4oK2IlCxDMmg2B19jmFgGF2hFZaUtB=s64",
      "userId": "10432534331321408288"
     },
     "user_tz": 300
    },
    "id": "UuRHmed449Gz"
   },
   "outputs": [],
   "source": [
    "import time\n",
    "import numpy as np"
   ]
  },
  {
   "cell_type": "markdown",
   "metadata": {
    "id": "XIVpVBOG9Rsw"
   },
   "source": [
    "## Dot Product\n",
    "\n",
    "Given two vectors $a$ and $b$, we want to compute $$a.b = a_1b_1 + a_2b_2 + ... + a_nb_n$$"
   ]
  },
  {
   "cell_type": "code",
   "execution_count": 3,
   "metadata": {
    "executionInfo": {
     "elapsed": 2620,
     "status": "ok",
     "timestamp": 1645197688399,
     "user": {
      "displayName": "Sana Lakdawala",
      "photoUrl": "https://lh3.googleusercontent.com/a-/AOh14GjtcWATTb4oK2IlCxDMmg2B19jmFgGF2hFZaUtB=s64",
      "userId": "10432534331321408288"
     },
     "user_tz": 300
    },
    "id": "UOWxi_GLBjK_"
   },
   "outputs": [],
   "source": [
    "VECTOR_SIZE = int(1e8)\n",
    "\n",
    "a = np.random.rand(VECTOR_SIZE)\n",
    "b = np.random.rand(VECTOR_SIZE)"
   ]
  },
  {
   "cell_type": "markdown",
   "metadata": {
    "id": "d8pgolDb63SF"
   },
   "source": [
    "### Compute dot product using numpy"
   ]
  },
  {
   "cell_type": "code",
   "execution_count": 4,
   "metadata": {
    "colab": {
     "base_uri": "https://localhost:8080/"
    },
    "executionInfo": {
     "elapsed": 281,
     "status": "ok",
     "timestamp": 1645197704873,
     "user": {
      "displayName": "Sana Lakdawala",
      "photoUrl": "https://lh3.googleusercontent.com/a-/AOh14GjtcWATTb4oK2IlCxDMmg2B19jmFgGF2hFZaUtB=s64",
      "userId": "10432534331321408288"
     },
     "user_tz": 300
    },
    "id": "c6KQU-4R678i",
    "outputId": "32b95a9c-2343-40d4-be85-51ca166e99a6"
   },
   "outputs": [
    {
     "name": "stdout",
     "output_type": "stream",
     "text": [
      "Answer = 25001032.57\n",
      "Time taken to compute answer = 0.20s\n"
     ]
    }
   ],
   "source": [
    "start_time = time.time()\n",
    "ans = np.dot(a, b)\n",
    "end_time = time.time()\n",
    "print(f\"Answer = {ans:.2f}\\nTime taken to compute answer = {end_time-start_time:.2f}s\")"
   ]
  },
  {
   "cell_type": "markdown",
   "metadata": {
    "id": "yWkoypRI6wRg"
   },
   "source": [
    "### Compute dot product using Python for loops"
   ]
  },
  {
   "cell_type": "code",
   "execution_count": 5,
   "metadata": {
    "colab": {
     "base_uri": "https://localhost:8080/"
    },
    "executionInfo": {
     "elapsed": 49703,
     "status": "ok",
     "timestamp": 1645197779204,
     "user": {
      "displayName": "Sana Lakdawala",
      "photoUrl": "https://lh3.googleusercontent.com/a-/AOh14GjtcWATTb4oK2IlCxDMmg2B19jmFgGF2hFZaUtB=s64",
      "userId": "10432534331321408288"
     },
     "user_tz": 300
    },
    "id": "h2XsAJan7UFf",
    "outputId": "7b20c4e2-cea1-4661-b8d1-85e2fe0de1be"
   },
   "outputs": [
    {
     "name": "stdout",
     "output_type": "stream",
     "text": [
      "Answer = 25001032.57\n",
      "Time taken to compute answer = 49.38s\n"
     ]
    }
   ],
   "source": [
    "ans = 0\n",
    "start_time = time.time()\n",
    "for i in range(len(a)):\n",
    "    ans += (a[i] * b[i])\n",
    "end_time = time.time()\n",
    "print(f\"Answer = {ans:.2f}\\nTime taken to compute answer = {end_time-start_time:.2f}s\")"
   ]
  },
  {
   "cell_type": "markdown",
   "metadata": {
    "id": "fBq1BmLZZTMG"
   },
   "source": [
    "#### Looks like numpy dot product is over 300x faster!!"
   ]
  },
  {
   "cell_type": "markdown",
   "metadata": {
    "id": "GM341ydk9XlN"
   },
   "source": [
    "## Matrix Multiplication\n",
    "\n",
    "Given two matrices $A$ and $B$ of sizes $p*q$ and $q*r$ respectively, we want to compute $$AB = a_{11}b_{11} + a_{12}b_{21} + a_{13}b_{31} + ... + a_{pq}b_{qr}$$"
   ]
  },
  {
   "cell_type": "code",
   "execution_count": 6,
   "metadata": {
    "executionInfo": {
     "elapsed": 530,
     "status": "ok",
     "timestamp": 1645197853547,
     "user": {
      "displayName": "Sana Lakdawala",
      "photoUrl": "https://lh3.googleusercontent.com/a-/AOh14GjtcWATTb4oK2IlCxDMmg2B19jmFgGF2hFZaUtB=s64",
      "userId": "10432534331321408288"
     },
     "user_tz": 300
    },
    "id": "UcBso3aq6Wi6"
   },
   "outputs": [],
   "source": [
    "A = np.random.normal(size=(2000, 1000)).astype('float32')\n",
    "B = np.random.normal(size=(1000, 3000)).astype('float32')"
   ]
  },
  {
   "cell_type": "code",
   "execution_count": 7,
   "metadata": {
    "colab": {
     "base_uri": "https://localhost:8080/"
    },
    "executionInfo": {
     "elapsed": 308,
     "status": "ok",
     "timestamp": 1645197873804,
     "user": {
      "displayName": "Sana Lakdawala",
      "photoUrl": "https://lh3.googleusercontent.com/a-/AOh14GjtcWATTb4oK2IlCxDMmg2B19jmFgGF2hFZaUtB=s64",
      "userId": "10432534331321408288"
     },
     "user_tz": 300
    },
    "id": "wM6KzfBt_r-N",
    "outputId": "0c43bb67-2b24-48cd-f39a-508b1f22246c"
   },
   "outputs": [
    {
     "name": "stdout",
     "output_type": "stream",
     "text": [
      "Answer = [[-21.61567    -4.2245626]\n",
      " [ -2.9993439  22.376247 ]]...\n",
      "Time taken to compute answer = 0.17s\n"
     ]
    }
   ],
   "source": [
    "start_time = time.time()\n",
    "ans = np.matmul(A, B)  # A @ B is equivalent\n",
    "end_time = time.time()\n",
    "print(f\"Answer = {ans[:2,:2]}...\\nTime taken to compute answer = {end_time-start_time:.2f}s\")"
   ]
  },
  {
   "cell_type": "code",
   "execution_count": 8,
   "metadata": {
    "executionInfo": {
     "elapsed": 162,
     "status": "ok",
     "timestamp": 1645197885371,
     "user": {
      "displayName": "Sana Lakdawala",
      "photoUrl": "https://lh3.googleusercontent.com/a-/AOh14GjtcWATTb4oK2IlCxDMmg2B19jmFgGF2hFZaUtB=s64",
      "userId": "10432534331321408288"
     },
     "user_tz": 300
    },
    "id": "0AIZ3wqk_1rs"
   },
   "outputs": [],
   "source": [
    "def py_matmul(A, B):\n",
    "    p, q = A.shape\n",
    "    x, r = B.shape\n",
    "    assert q == x, \"Dimensions don't match!\"\n",
    "    \n",
    "    output = np.zeros(shape=(p, r))\n",
    "    for i in range(p):\n",
    "        for j in range(r):\n",
    "            for k in range(q):\n",
    "                output[i, j] += A[i, k] * B[k, j]\n",
    "                \n",
    "    return output"
   ]
  },
  {
   "cell_type": "code",
   "execution_count": null,
   "metadata": {
    "colab": {
     "background_save": true
    },
    "id": "S_lmzb7fA7nK",
    "outputId": "340c8736-c15d-4e1c-950c-6f62224abeb3"
   },
   "outputs": [
    {
     "name": "stdout",
     "output_type": "stream",
     "text": [
      "Answer = [[-19.66146792 -23.37398979]\n",
      " [  3.05616885  30.46048401]]...\n",
      "Time taken to compute answer = 5812.78s\n"
     ]
    }
   ],
   "source": [
    "start_time = time.time()\n",
    "ans = py_matmul(A, B)\n",
    "end_time = time.time()\n",
    "print(f\"Answer = {ans[:2,:2]}...\\nTime taken to compute answer = {end_time-start_time:.2f}s\")"
   ]
  },
  {
   "cell_type": "markdown",
   "metadata": {
    "id": "dKxxu0E-Zhog"
   },
   "source": [
    "#### Oops. Will this even compute? \n",
    "Exercise: How many times will line 10 execute? What is the complexity of the above matrix multiplication code in big-O notation? "
   ]
  },
  {
   "cell_type": "markdown",
   "metadata": {
    "id": "TSuY_1cVBRiW"
   },
   "source": [
    "## Checking whether a list is unique"
   ]
  },
  {
   "cell_type": "code",
   "execution_count": 9,
   "metadata": {
    "executionInfo": {
     "elapsed": 1883,
     "status": "ok",
     "timestamp": 1645197994778,
     "user": {
      "displayName": "Sana Lakdawala",
      "photoUrl": "https://lh3.googleusercontent.com/a-/AOh14GjtcWATTb4oK2IlCxDMmg2B19jmFgGF2hFZaUtB=s64",
      "userId": "10432534331321408288"
     },
     "user_tz": 300
    },
    "id": "0iONsBL0Cmxf"
   },
   "outputs": [],
   "source": [
    "VECTOR_SIZE = int(1e8)\n",
    "a = np.ones(VECTOR_SIZE)\n",
    "b = np.random.rand(VECTOR_SIZE)"
   ]
  },
  {
   "cell_type": "code",
   "execution_count": 10,
   "metadata": {
    "colab": {
     "base_uri": "https://localhost:8080/"
    },
    "executionInfo": {
     "elapsed": 19184,
     "status": "ok",
     "timestamp": 1645198041223,
     "user": {
      "displayName": "Sana Lakdawala",
      "photoUrl": "https://lh3.googleusercontent.com/a-/AOh14GjtcWATTb4oK2IlCxDMmg2B19jmFgGF2hFZaUtB=s64",
      "userId": "10432534331321408288"
     },
     "user_tz": 300
    },
    "id": "NTumglmsCk7j",
    "outputId": "ad56f505-09fb-477a-fc77-000fbff1612f"
   },
   "outputs": [
    {
     "name": "stdout",
     "output_type": "stream",
     "text": [
      "Is a unique? = True\n",
      "Is b unique? = False\n",
      "Time taken to compute answer = 19.07s\n"
     ]
    }
   ],
   "source": [
    "start_time = time.time()\n",
    "a_uniq = np.unique(a)\n",
    "b_uniq = np.unique(b)\n",
    "end_time = time.time()\n",
    "print(f\"Is a unique? = {len(a_uniq)==1}\\nIs b unique? = {len(b_uniq)==1}\\nTime taken to compute answer = {end_time-start_time:.2f}s\")"
   ]
  },
  {
   "cell_type": "markdown",
   "metadata": {
    "id": "8jea-OVKEkeA"
   },
   "source": [
    "**Exercise:** Why does the unique operation take ~20s with numpy when the dot and matmul operations took a fraction of a second? \n",
    "\n",
    "(Hint: Think about behind-the-scenes vectorization of operations)\n",
    "\n",
    "\n",
    "**NOTE: It is STILL 3x faster than the below Python for loop implementation.**"
   ]
  },
  {
   "cell_type": "code",
   "execution_count": null,
   "metadata": {
    "colab": {
     "base_uri": "https://localhost:8080/"
    },
    "executionInfo": {
     "elapsed": 67600,
     "status": "ok",
     "timestamp": 1644871931341,
     "user": {
      "displayName": "Chutian Weng",
      "photoUrl": "https://lh3.googleusercontent.com/a-/AOh14Gj3VdP5WsR6z0iVerGLtwj08QxD4msmPi_5KDVP=s64",
      "userId": "08087241736673755075"
     },
     "user_tz": 300
    },
    "id": "aZH7P5QyD3AG",
    "outputId": "d3cd4ded-ce59-4a68-987e-cf811e85bdfe"
   },
   "outputs": [
    {
     "name": "stdout",
     "output_type": "stream",
     "text": [
      "Is a unique? = True\n",
      "Is b unique? = False\n",
      "Time taken to compute answer = 67.34s\n"
     ]
    }
   ],
   "source": [
    "start_time = time.time()\n",
    "a_uniq = True\n",
    "for elem in a:\n",
    "    if elem != a[0]:\n",
    "        a_uniq = False\n",
    "b_uniq = True\n",
    "for elem in b:\n",
    "    if elem != b[0]:\n",
    "        b_uniq = False\n",
    "end_time = time.time()\n",
    "print(f\"Is a unique? = {a_uniq}\\nIs b unique? = {b_uniq}\\nTime taken to compute answer = {end_time-start_time:.2f}s\")"
   ]
  },
  {
   "cell_type": "markdown",
   "metadata": {
    "id": "JA2fSkRSJXZQ"
   },
   "source": [
    "#  Part 2: Other Important Numpy Operations"
   ]
  },
  {
   "cell_type": "markdown",
   "metadata": {
    "id": "Kx_3ATZoDnTU"
   },
   "source": [
    "## Returning frequency of elements in a list"
   ]
  },
  {
   "cell_type": "code",
   "execution_count": 11,
   "metadata": {
    "colab": {
     "base_uri": "https://localhost:8080/"
    },
    "executionInfo": {
     "elapsed": 4266,
     "status": "ok",
     "timestamp": 1645198181848,
     "user": {
      "displayName": "Sana Lakdawala",
      "photoUrl": "https://lh3.googleusercontent.com/a-/AOh14GjtcWATTb4oK2IlCxDMmg2B19jmFgGF2hFZaUtB=s64",
      "userId": "10432534331321408288"
     },
     "user_tz": 300
    },
    "id": "D1-o9DIXDmhQ",
    "outputId": "2ae9aee4-3b29-4389-c16d-920fd4a5fa37"
   },
   "outputs": [
    {
     "data": {
      "text/plain": [
       "{1.0: 100000000}"
      ]
     },
     "execution_count": 11,
     "metadata": {},
     "output_type": "execute_result"
    }
   ],
   "source": [
    "a = np.ones(VECTOR_SIZE)\n",
    "counts = np.unique(a, return_counts=True)\n",
    "dict(zip(list(counts[0]), counts[1]))"
   ]
  },
  {
   "cell_type": "code",
   "execution_count": 12,
   "metadata": {
    "colab": {
     "base_uri": "https://localhost:8080/"
    },
    "executionInfo": {
     "elapsed": 9,
     "status": "ok",
     "timestamp": 1645198181849,
     "user": {
      "displayName": "Sana Lakdawala",
      "photoUrl": "https://lh3.googleusercontent.com/a-/AOh14GjtcWATTb4oK2IlCxDMmg2B19jmFgGF2hFZaUtB=s64",
      "userId": "10432534331321408288"
     },
     "user_tz": 300
    },
    "id": "llRomhyUDluT",
    "outputId": "1a82f848-d126-421c-e2e1-eacd71ce8eb2"
   },
   "outputs": [
    {
     "data": {
      "text/plain": [
       "{'A': 3, 'notA': 2}"
      ]
     },
     "execution_count": 12,
     "metadata": {},
     "output_type": "execute_result"
    }
   ],
   "source": [
    "b = np.array([\"A\", \"notA\", \"A\", \"A\", \"notA\"])\n",
    "counts = np.unique(b, return_counts=True)\n",
    "dict(zip(list(counts[0]), counts[1]))"
   ]
  },
  {
   "cell_type": "markdown",
   "metadata": {
    "id": "VdsnehBcJdU0"
   },
   "source": [
    "## Stacking arrays horizontally\n",
    "Hint: for folding in bias terms"
   ]
  },
  {
   "cell_type": "code",
   "execution_count": null,
   "metadata": {
    "colab": {
     "base_uri": "https://localhost:8080/"
    },
    "executionInfo": {
     "elapsed": 157,
     "status": "ok",
     "timestamp": 1644872035081,
     "user": {
      "displayName": "Chutian Weng",
      "photoUrl": "https://lh3.googleusercontent.com/a-/AOh14Gj3VdP5WsR6z0iVerGLtwj08QxD4msmPi_5KDVP=s64",
      "userId": "08087241736673755075"
     },
     "user_tz": 300
    },
    "id": "bEq22-hVJhIV",
    "outputId": "099dee2e-8271-4332-b241-4209ceade5bc"
   },
   "outputs": [
    {
     "data": {
      "text/plain": [
       "array([[1, 2, 3, 1],\n",
       "       [4, 5, 6, 1],\n",
       "       [7, 8, 9, 1]])"
      ]
     },
     "execution_count": 12,
     "metadata": {},
     "output_type": "execute_result"
    }
   ],
   "source": [
    "a = np.array([\n",
    "    [1, 2, 3], \n",
    "    [4, 5, 6], \n",
    "    [7, 8, 9],       \n",
    "])\n",
    "b = np.array([\n",
    "    [1],       \n",
    "    [1],       \n",
    "    [1],       \n",
    "])\n",
    "np.hstack((a, b))"
   ]
  },
  {
   "cell_type": "markdown",
   "metadata": {
    "id": "y9xVc9V3Axx1"
   },
   "source": [
    "## Manipulating dimensions or axes "
   ]
  },
  {
   "cell_type": "markdown",
   "metadata": {
    "id": "bP5FGC8GAVKQ"
   },
   "source": [
    "Convert a a 2-D matrix of size $n*1$ into a 1-D numpy vector of length $n$ "
   ]
  },
  {
   "cell_type": "code",
   "execution_count": null,
   "metadata": {
    "colab": {
     "base_uri": "https://localhost:8080/"
    },
    "executionInfo": {
     "elapsed": 162,
     "status": "ok",
     "timestamp": 1644872089370,
     "user": {
      "displayName": "Chutian Weng",
      "photoUrl": "https://lh3.googleusercontent.com/a-/AOh14Gj3VdP5WsR6z0iVerGLtwj08QxD4msmPi_5KDVP=s64",
      "userId": "08087241736673755075"
     },
     "user_tz": 300
    },
    "id": "16wV0oW0AUvu",
    "outputId": "2f865678-d38c-4da0-e628-72a5b39afa04"
   },
   "outputs": [
    {
     "data": {
      "text/plain": [
       "array([1, 1, 1])"
      ]
     },
     "execution_count": 13,
     "metadata": {},
     "output_type": "execute_result"
    }
   ],
   "source": [
    "b_vec = np.squeeze(b, axis=1)\n",
    "b_vec"
   ]
  },
  {
   "cell_type": "markdown",
   "metadata": {
    "id": "nHpsvDk2_316"
   },
   "source": [
    "Convert a 1-D numpy vector of length $n$ to a 2-D matrix of size $n*1$"
   ]
  },
  {
   "cell_type": "code",
   "execution_count": null,
   "metadata": {
    "colab": {
     "base_uri": "https://localhost:8080/"
    },
    "executionInfo": {
     "elapsed": 175,
     "status": "ok",
     "timestamp": 1644872104157,
     "user": {
      "displayName": "Chutian Weng",
      "photoUrl": "https://lh3.googleusercontent.com/a-/AOh14Gj3VdP5WsR6z0iVerGLtwj08QxD4msmPi_5KDVP=s64",
      "userId": "08087241736673755075"
     },
     "user_tz": 300
    },
    "id": "KJJBGhg6_zzs",
    "outputId": "8480dfcb-6b83-485e-f060-6152bbb95ef6"
   },
   "outputs": [
    {
     "data": {
      "text/plain": [
       "array([[1],\n",
       "       [1],\n",
       "       [1]])"
      ]
     },
     "execution_count": 14,
     "metadata": {},
     "output_type": "execute_result"
    }
   ],
   "source": [
    "b = np.expand_dims(b_vec, axis=1)\n",
    "b"
   ]
  },
  {
   "cell_type": "markdown",
   "metadata": {
    "id": "rK5T2Wx5_4fB"
   },
   "source": [
    "## Transpose operation\n",
    "Yes. It is as simple as the math notation you've learned in lecture."
   ]
  },
  {
   "cell_type": "code",
   "execution_count": null,
   "metadata": {
    "colab": {
     "base_uri": "https://localhost:8080/"
    },
    "executionInfo": {
     "elapsed": 155,
     "status": "ok",
     "timestamp": 1644654106376,
     "user": {
      "displayName": "Prasoon Varshney",
      "photoUrl": "https://lh3.googleusercontent.com/a-/AOh14GjKpqBtBr3ApwSA1_TxPI3m_VTiHPyycR-nFd-Q=s64",
      "userId": "16012004507210419622"
     },
     "user_tz": 300
    },
    "id": "yXYJJEhe_5y1",
    "outputId": "343bffd2-6776-4ce9-bd99-0eeb1d425fb8"
   },
   "outputs": [
    {
     "data": {
      "text/plain": [
       "array([[1, 4, 7],\n",
       "       [2, 5, 8],\n",
       "       [3, 6, 9]])"
      ]
     },
     "execution_count": 32,
     "metadata": {},
     "output_type": "execute_result"
    }
   ],
   "source": [
    "a.T"
   ]
  },
  {
   "cell_type": "markdown",
   "metadata": {
    "id": "S6HXH6P6K2C9"
   },
   "source": [
    "References:\n",
    "\n",
    "[1] https://towardsdatascience.com/how-fast-is-c-compared-to-python-978f18f474c7\n",
    "\n"
   ]
  }
 ],
 "metadata": {
  "colab": {
   "collapsed_sections": [],
   "name": "S22_10601_Recitation_HW4.ipynb",
   "provenance": []
  },
  "kernelspec": {
   "display_name": "Python 3 (ipykernel)",
   "language": "python",
   "name": "python3"
  },
  "language_info": {
   "codemirror_mode": {
    "name": "ipython",
    "version": 3
   },
   "file_extension": ".py",
   "mimetype": "text/x-python",
   "name": "python",
   "nbconvert_exporter": "python",
   "pygments_lexer": "ipython3",
   "version": "3.9.7"
  }
 },
 "nbformat": 4,
 "nbformat_minor": 1
}
